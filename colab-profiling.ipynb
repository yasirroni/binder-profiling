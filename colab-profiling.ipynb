{
 "cells": [
  {
   "cell_type": "markdown",
   "metadata": {},
   "source": [
    "# ~~binder~~ colab-profiling\n",
    "Read your .csv file and give you better insight of your data using [Pandas Profiling](pandas-profiling). Please consider to visit and leave a star on [binder-profiling](https://github.com/yasirroni/binder-profiling) if you like this repository."
   ]
  },
  {
   "cell_type": "code",
   "execution_count": null,
   "metadata": {},
   "outputs": [],
   "source": [
    "!pip install https://github.com/pandas-profiling/pandas-profiling/archive/master.zip"
   ]
  },
  {
   "cell_type": "code",
   "execution_count": null,
   "metadata": {},
   "outputs": [],
   "source": [
    "from IPython.display import display\n",
    "from IPython.core.debugger import Pdb\n",
    "from ipywidgets import widgets\n",
    "import pandas as pd\n",
    "import numpy as np\n",
    "import csv\n",
    "import time\n",
    "import threading\n",
    "\n",
    "from pandas_profiling import ProfileReport"
   ]
  },
  {
   "cell_type": "code",
   "execution_count": null,
   "metadata": {},
   "outputs": [],
   "source": [
    "# uploader\n",
    "uploader = widgets.FileUpload(\n",
    "    accept='.csv*',  # Accepted file extension e.g. '.txt', '.pdf', 'image/*', 'image/*,.pdf'\n",
    "    multiple=False  # True to accept multiple files upload else False\n",
    "    )\n",
    "\n",
    "# label\n",
    "label = widgets.Label(\n",
    "    value = 'Upload File in .csv Format'\n",
    ")\n",
    "\n",
    "# wrapper\n",
    "wrapper = widgets.VBox(\n",
    "    children=(uploader, label)\n",
    ")"
   ]
  },
  {
   "cell_type": "code",
   "execution_count": null,
   "metadata": {},
   "outputs": [],
   "source": [
    "# get content and name\n",
    "def get_content_and_name(uploader):\n",
    "    for key, value in uploader.value.items():\n",
    "        return value['content'], value['metadata']['name']"
   ]
  },
  {
   "cell_type": "code",
   "execution_count": null,
   "metadata": {},
   "outputs": [],
   "source": [
    "def write_file_from_bytes_data(bytes_data, file_name='temp.csv'):\n",
    "    with open(file_name,'wb') as f:\n",
    "        f.write(content)"
   ]
  },
  {
   "cell_type": "code",
   "execution_count": null,
   "metadata": {},
   "outputs": [],
   "source": [
    "display(wrapper)"
   ]
  },
  {
   "cell_type": "code",
   "execution_count": null,
   "metadata": {},
   "outputs": [],
   "source": [
    "# get content and file name\n",
    "content, file_name = get_content_and_name(uploader)\n",
    "\n",
    "# from bytes data to csv file\n",
    "write_file_from_bytes_data(content, file_name=file_name)\n",
    "\n",
    "# pandas read csv\n",
    "df = pd.read_csv(file_name)\n",
    "                \n",
    "# generate the Profiling Report\n",
    "profile = ProfileReport(df, title=file_name.split('.')[-1], html={'style': {'full_width': True}}, sort=\"None\")"
   ]
  },
  {
   "cell_type": "code",
   "execution_count": null,
   "metadata": {},
   "outputs": [],
   "source": [
    "# The Notebook Widgets Interface\n",
    "display(profile)"
   ]
  },
  {
   "cell_type": "code",
   "execution_count": null,
   "metadata": {},
   "outputs": [],
   "source": []
  }
 ],
 "metadata": {
  "kernelspec": {
   "display_name": "Python 3",
   "language": "python",
   "name": "python3"
  },
  "language_info": {
   "codemirror_mode": {
    "name": "ipython",
    "version": 3
   },
   "file_extension": ".py",
   "mimetype": "text/x-python",
   "name": "python",
   "nbconvert_exporter": "python",
   "pygments_lexer": "ipython3",
   "version": "3.7.4"
  }
 },
 "nbformat": 4,
 "nbformat_minor": 4
}
