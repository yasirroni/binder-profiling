{
 "cells": [
  {
   "cell_type": "markdown",
   "metadata": {},
   "source": [
    "# binder-profiling\n",
    "Read your .csv file and give you better insight of your data using [Pandas Profiling](pandas-profiling). Please consider to visit and leave a star on [binder-profiling](https://github.com/yasirroni/binder-profiling) if you like this repository."
   ]
  },
  {
   "cell_type": "code",
   "execution_count": 1,
   "metadata": {},
   "outputs": [],
   "source": [
    "from IPython.display import display\n",
    "from ipywidgets import widgets\n",
    "import pandas as pd\n",
    "import numpy as np\n",
    "import csv\n",
    "import io\n",
    "import time\n",
    "import threading\n",
    "\n",
    "from pandas_profiling import ProfileReport\n",
    "from pandas_profiling.utils.cache import cache_file"
   ]
  },
  {
   "cell_type": "code",
   "execution_count": 2,
   "metadata": {},
   "outputs": [],
   "source": [
    "# uploader\n",
    "uploader = widgets.FileUpload(\n",
    "    accept='.csv*',  # Accepted file extension e.g. '.txt', '.pdf', 'image/*', 'image/*,.pdf'\n",
    "    multiple=False  # True to accept multiple files upload else False\n",
    "    )\n",
    "\n",
    "# label\n",
    "label = widgets.Label(\n",
    "    value = 'Upload File in .csv Format'\n",
    ")\n",
    "\n",
    "# wrapper\n",
    "wrapper = widgets.VBox(\n",
    "    children=(uploader, label)\n",
    ")"
   ]
  },
  {
   "cell_type": "code",
   "execution_count": 3,
   "metadata": {},
   "outputs": [],
   "source": [
    "# get content and name\n",
    "def get_content_and_name(uploader):\n",
    "    for key, value in uploader.value.items():\n",
    "        return value['content'], value['metadata']['name']"
   ]
  },
  {
   "cell_type": "code",
   "execution_count": 4,
   "metadata": {},
   "outputs": [],
   "source": [
    "def write_file_from_bytes_data(bytes_data, file_name='temp.csv'):\n",
    "    with open(file_name,'wb') as f:\n",
    "        f.write(content)"
   ]
  },
  {
   "cell_type": "code",
   "execution_count": 5,
   "metadata": {},
   "outputs": [],
   "source": [
    "def work():\n",
    "    # global flag\n",
    "    global thread_status, content, extension, profile\n",
    "    \n",
    "    # save uploader.value for state reference\n",
    "    current_uploader_content = uploader.value\n",
    "    \n",
    "    while thread_status:\n",
    "        \n",
    "        # check if there is a change in uploader.value\n",
    "        if current_uploader_content != uploader.value:\n",
    "            \n",
    "            # renew state reference\n",
    "            current_uploader_content = uploader.value\n",
    "           \n",
    "            if uploader.value:\n",
    "                # message\n",
    "                label.value = 'Reading Your File...'\n",
    "                \n",
    "                # get content and file name\n",
    "                content, file_name = get_content_and_name(uploader)\n",
    "                \n",
    "                # from bytes data to csv file\n",
    "                write_file_from_bytes_data(content, file_name=file_name)\n",
    "                \n",
    "                # pandas read csv\n",
    "                df = pd.read_csv(file_name)\n",
    "                \n",
    "                label.value = 'Profiling Your File...'\n",
    "                \n",
    "                # generate the Profiling Report\n",
    "                profile = ProfileReport(df, title=file_name.split('.')[-1], html={'style': {'full_width': True}}, sort=\"None\")\n",
    "\n",
    "                # The Notebook Widgets Interface\n",
    "                display(profile)\n",
    "                \n",
    "                label.value = 'Profiling Finished!'\n",
    "        \n",
    "        # sleep for threading\n",
    "        time.sleep(0.05)\n",
    "        \n",
    "        # exit flag from threading\n",
    "        if thread_status == False:\n",
    "            break"
   ]
  },
  {
   "cell_type": "code",
   "execution_count": 6,
   "metadata": {},
   "outputs": [],
   "source": [
    "# thread status\n",
    "thread_status = False\n",
    "thread_status = True\n",
    "\n",
    "# create thread\n",
    "thread = threading.Thread(target=work)\n",
    "\n",
    "# start thread\n",
    "thread.start()"
   ]
  },
  {
   "cell_type": "code",
   "execution_count": 7,
   "metadata": {},
   "outputs": [
    {
     "data": {
      "application/vnd.jupyter.widget-view+json": {
       "model_id": "f83f7999450e4a1694da5b28fcc02134",
       "version_major": 2,
       "version_minor": 0
      },
      "text/plain": [
       "VBox(children=(FileUpload(value={}, accept='.csv*', description='Upload'), Label(value='Upload File in .csv Fo…"
      ]
     },
     "metadata": {},
     "output_type": "display_data"
    }
   ],
   "source": [
    "display(wrapper)"
   ]
  }
 ],
 "metadata": {
  "kernelspec": {
   "display_name": "Python 3",
   "language": "python",
   "name": "python3"
  },
  "language_info": {
   "codemirror_mode": {
    "name": "ipython",
    "version": 3
   },
   "file_extension": ".py",
   "mimetype": "text/x-python",
   "name": "python",
   "nbconvert_exporter": "python",
   "pygments_lexer": "ipython3",
   "version": "3.7.4"
  }
 },
 "nbformat": 4,
 "nbformat_minor": 4
}
