{
 "cells": [
  {
   "cell_type": "markdown",
   "metadata": {},
   "source": [
    "# binder-profiling\n",
    "Read your .csv file and give you better insight of your data using [Pandas Profiling](pandas-profiling). Please consider to visit and leave a star on [binder-profiling](https://github.com/yasirroni/binder-profiling) if you like this repository."
   ]
  },
  {
   "cell_type": "code",
   "execution_count": null,
   "metadata": {},
   "outputs": [],
   "source": [
    "from IPython.display import display, HTML, clear_output\n",
    "from ipywidgets import widgets\n",
    "from notebook import notebookapp\n",
    "import pandas as pd\n",
    "import numpy as np\n",
    "import csv\n",
    "import time\n",
    "import threading\n",
    "import os\n",
    "\n",
    "from pandas_profiling import ProfileReport"
   ]
  },
  {
   "cell_type": "code",
   "execution_count": null,
   "metadata": {},
   "outputs": [],
   "source": [
    "# button layout\n",
    "layout_button = widgets.Layout(\n",
    "    width = '120px'\n",
    ")"
   ]
  },
  {
   "cell_type": "code",
   "execution_count": null,
   "metadata": {},
   "outputs": [],
   "source": [
    "# uploader\n",
    "uploader = widgets.FileUpload(\n",
    "    accept='.csv*',  # Accepted file extension e.g. '.txt', '.pdf', 'image/*', 'image/*,.pdf'\n",
    "    multiple=False  # True to accept multiple files upload else False\n",
    "    )\n",
    "\n",
    "# label\n",
    "label_main = widgets.Label(\n",
    "    value = 'Upload File in .csv Format'\n",
    ")\n",
    "\n",
    "# button_show_profiling\n",
    "button_show = widgets.Button(\n",
    "    description = 'show',\n",
    "    button_style = '',\n",
    "    layout = layout_button,\n",
    "    disabled = True,\n",
    ")\n",
    "\n",
    "# button_json\n",
    "button_json = widgets.Button(\n",
    "    description = '.json',\n",
    "    button_style = '',\n",
    "    layout = layout_button,\n",
    "    disabled = True,\n",
    ")\n",
    "\n",
    "# button_html\n",
    "button_html = widgets.Button(\n",
    "    description = '.html',\n",
    "    button_style = '',\n",
    "    layout = layout_button,\n",
    "    disabled = True,\n",
    ")\n",
    "\n",
    "# button_clear\n",
    "button_clear =  widgets.Button(\n",
    "    description = 'clear display',\n",
    "    button_style = '',\n",
    "    layout = layout_button,\n",
    "    disabled = True,\n",
    ")"
   ]
  },
  {
   "cell_type": "code",
   "execution_count": null,
   "metadata": {},
   "outputs": [],
   "source": [
    "def button_show_click(_):\n",
    "    display(profile)\n",
    "    button_show.disabled = True\n",
    "    \n",
    "button_show.on_click(button_show_click)\n",
    "\n",
    "def button_json_click(_):\n",
    "    profile.to_file(file_name+'.json')\n",
    "    servers = list(notebookapp.list_running_servers())\n",
    "    html_url = os.path.join('https://notebooks.gesis.org'+str(servers[0]['base_url']),'view',file_name+'.json')\n",
    "    html_text = '<a href=\"' + html_url +'\"' + 'target=\"_blank\">' + html_url + '</a>'\n",
    "    display(HTML(html_text))\n",
    "    button_json.disabled = True\n",
    "\n",
    "button_json.on_click(button_json_click)\n",
    "\n",
    "def button_html_click(_):\n",
    "    profile.to_file(file_name+'.html')\n",
    "    servers = list(notebookapp.list_running_servers())\n",
    "    html_url = os.path.join('https://notebooks.gesis.org'+str(servers[0]['base_url']),'view',file_name+'.html')\n",
    "    html_text = '<a href=\"' + html_url +'\"' + 'target=\"_blank\">' + html_url + '</a>'\n",
    "    display(HTML(html_text))\n",
    "    button_html.disabled = True\n",
    "\n",
    "button_html.on_click(button_html_click)\n",
    "\n",
    "def button_clear_click(_):\n",
    "    clear_output()\n",
    "    if uploader.value:\n",
    "        button_show.disabled = False\n",
    "        button_json.disabled = False\n",
    "        button_html.disabled = False\n",
    "    display(button_box)\n",
    "\n",
    "button_clear.on_click(button_clear_click)"
   ]
  },
  {
   "cell_type": "code",
   "execution_count": null,
   "metadata": {},
   "outputs": [],
   "source": [
    "# button box wrapper\n",
    "button_box = widgets.HBox(\n",
    "    children = (button_show, button_json, button_html, button_clear)\n",
    ")\n",
    "\n",
    "# wrapper\n",
    "wrapper = widgets.VBox(\n",
    "    children=(uploader, label_main)\n",
    ")\n",
    "\n",
    "# outputs box wrapper\n",
    "profile_box = widgets.VBox(\n",
    "    children = ()\n",
    ")"
   ]
  },
  {
   "cell_type": "code",
   "execution_count": null,
   "metadata": {},
   "outputs": [],
   "source": [
    "# get content and name\n",
    "def get_content_and_name(uploader):\n",
    "    for key, value in uploader.value.items():\n",
    "        return value['content'], value['metadata']['name']"
   ]
  },
  {
   "cell_type": "code",
   "execution_count": null,
   "metadata": {},
   "outputs": [],
   "source": [
    "def write_file_from_bytes_data(bytes_data, file_full_name='temp.csv'):\n",
    "    with open(file_full_name,'wb') as f:\n",
    "        f.write(bytes_data)"
   ]
  },
  {
   "cell_type": "code",
   "execution_count": null,
   "metadata": {},
   "outputs": [],
   "source": [
    "def work():\n",
    "    # global flag\n",
    "    global thread_status, file_name, profile\n",
    "    \n",
    "    # save uploader.value for state reference\n",
    "    current_uploader_content = uploader.value\n",
    "    \n",
    "    while thread_status:\n",
    "        \n",
    "        # check if there is a change in uploader.value\n",
    "        if current_uploader_content != uploader.value:\n",
    "            \n",
    "            # renew state reference\n",
    "            current_uploader_content = uploader.value\n",
    "           \n",
    "            if uploader.value:\n",
    "                # message\n",
    "                label_main.value = 'Reading Your File...'\n",
    "                \n",
    "                # get content and file name\n",
    "                content, file_full_name = get_content_and_name(uploader)\n",
    "                file_name = file_full_name.split('.')[0]\n",
    "                \n",
    "                # from bytes data to csv file\n",
    "                write_file_from_bytes_data(content, file_full_name=file_full_name)\n",
    "                \n",
    "                # pandas read csv\n",
    "                df = pd.read_csv(file_full_name)\n",
    "                \n",
    "                label_main.value = 'Profiling Your File...'\n",
    "                \n",
    "                # generate the profiling report\n",
    "                profile = ProfileReport(df, title=file_name, html={'style': {'full_width': True}}, sort=\"None\")\n",
    "                \n",
    "                # update label\n",
    "                label_main.value = 'Profiling Finished! Click Below For Show or Export'\n",
    "                \n",
    "                # export button\n",
    "                button_show.disabled = False\n",
    "                button_json.disabled = False\n",
    "                button_html.disabled = False\n",
    "                button_clear.disabled = False\n",
    "                \n",
    "        # sleep for threading\n",
    "        time.sleep(0.05)\n",
    "        \n",
    "        # exit flag from threading\n",
    "        if thread_status == False:\n",
    "            break"
   ]
  },
  {
   "cell_type": "code",
   "execution_count": null,
   "metadata": {},
   "outputs": [],
   "source": [
    "# thread status\n",
    "thread_status = False\n",
    "thread_status = True\n",
    "\n",
    "# create thread\n",
    "thread = threading.Thread(target=work)\n",
    "\n",
    "# start thread\n",
    "thread.start()"
   ]
  },
  {
   "cell_type": "code",
   "execution_count": null,
   "metadata": {},
   "outputs": [],
   "source": [
    "display(wrapper)"
   ]
  },
  {
   "cell_type": "code",
   "execution_count": null,
   "metadata": {
    "scrolled": true
   },
   "outputs": [],
   "source": [
    "display(button_box)"
   ]
  },
  {
   "cell_type": "code",
   "execution_count": null,
   "metadata": {},
   "outputs": [],
   "source": []
  }
 ],
 "metadata": {
  "kernelspec": {
   "display_name": "Python 3",
   "language": "python",
   "name": "python3"
  },
  "language_info": {
   "codemirror_mode": {
    "name": "ipython",
    "version": 3
   },
   "file_extension": ".py",
   "mimetype": "text/x-python",
   "name": "python",
   "nbconvert_exporter": "python",
   "pygments_lexer": "ipython3",
   "version": "3.7.4"
  }
 },
 "nbformat": 4,
 "nbformat_minor": 4
}
